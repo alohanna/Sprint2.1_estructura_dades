{
 "cells": [
  {
   "cell_type": "code",
   "execution_count": 4,
   "id": "04ab2dc3",
   "metadata": {},
   "outputs": [
    {
     "name": "stdout",
     "output_type": "stream",
     "text": [
      "[['Gener', 'Febrer', 'Març'], ['Abril', 'Maig', 'Juny'], ['Juliol', 'Agost', 'Setembre'], ['Octubre', 'Novembre', 'Desembre']]\n"
     ]
    }
   ],
   "source": [
    "trimestres=[['Gener',('Febrer'),('Març')],[('Abril'),('Maig'),('Juny')],\n",
    "            [('Juliol'),('Agost'),('Setembre')],[('Octubre'),('Novembre'),('Desembre')]]\n",
    "print(trimestres)"
   ]
  },
  {
   "cell_type": "code",
   "execution_count": 7,
   "id": "ec855a67",
   "metadata": {},
   "outputs": [
    {
     "name": "stdout",
     "output_type": "stream",
     "text": [
      "Febrer\n"
     ]
    }
   ],
   "source": [
    "print(trimestres[0][1])"
   ]
  },
  {
   "cell_type": "code",
   "execution_count": 8,
   "id": "f062be43",
   "metadata": {},
   "outputs": [
    {
     "name": "stdout",
     "output_type": "stream",
     "text": [
      "['Gener', 'Febrer', 'Març']\n"
     ]
    }
   ],
   "source": [
    "print(trimestres[0])"
   ]
  },
  {
   "cell_type": "code",
   "execution_count": 77,
   "id": "73fccddc",
   "metadata": {},
   "outputs": [
    {
     "name": "stdout",
     "output_type": "stream",
     "text": [
      "Setembre Octubre\n"
     ]
    }
   ],
   "source": [
    "print(trimestres[2][2], end=' ')\n",
    "print(trimestres[3][0])"
   ]
  },
  {
   "cell_type": "code",
   "execution_count": 172,
   "id": "aeb9b802",
   "metadata": {},
   "outputs": [
    {
     "name": "stdout",
     "output_type": "stream",
     "text": [
      "[9, 7, 3, 0, 11, 1, 14, 13, 8, 4, 5, 12, 2, 10, 6]\n"
     ]
    }
   ],
   "source": [
    "#Crea una llista amb nombres desordenats i respon a les següents preguntes:\n",
    "\n",
    "import random\n",
    "\n",
    "lista= random.sample(range(0,15),15)\n",
    "print(lista)"
   ]
  },
  {
   "cell_type": "code",
   "execution_count": 173,
   "id": "53272b39",
   "metadata": {},
   "outputs": [
    {
     "name": "stdout",
     "output_type": "stream",
     "text": [
      "15\n"
     ]
    }
   ],
   "source": [
    "#Quants números hi ha?\n",
    "\n",
    "print(len(lista))"
   ]
  },
  {
   "cell_type": "code",
   "execution_count": 174,
   "id": "20358836",
   "metadata": {},
   "outputs": [
    {
     "name": "stdout",
     "output_type": "stream",
     "text": [
      "1\n"
     ]
    }
   ],
   "source": [
    "#Quantes vegades apareix el número 3.\n",
    "\n",
    "repeticiones=[]\n",
    "for i in lista:\n",
    "    if i==3:\n",
    "        repeticiones.append(i)\n",
    "\n",
    "print(len(repeticiones))\n",
    "\n",
    "    "
   ]
  },
  {
   "cell_type": "code",
   "execution_count": 175,
   "id": "2656d72f",
   "metadata": {},
   "outputs": [
    {
     "name": "stdout",
     "output_type": "stream",
     "text": [
      "2\n"
     ]
    }
   ],
   "source": [
    "#Quantes vegades apareixen els nombres 3 i 4?\n",
    "\n",
    "repeticiones34 = [i for i in lista if i in (3, 4)]\n",
    "print(len(repeticiones34))\n",
    "\n"
   ]
  },
  {
   "cell_type": "code",
   "execution_count": 176,
   "id": "22f074d8",
   "metadata": {},
   "outputs": [
    {
     "name": "stdout",
     "output_type": "stream",
     "text": [
      "14\n"
     ]
    }
   ],
   "source": [
    "#Quin és el número més gran?\n",
    "\n",
    "num_mayor=lista[0] \n",
    "for num in lista:\n",
    "    if num > num_mayor:\n",
    "        num_mayor = num\n",
    "        \n",
    "print(num_mayor)"
   ]
  },
  {
   "cell_type": "code",
   "execution_count": 182,
   "id": "4ca799a2",
   "metadata": {},
   "outputs": [
    {
     "name": "stdout",
     "output_type": "stream",
     "text": [
      "14\n"
     ]
    }
   ],
   "source": [
    "#Quin és el número més gran?\n",
    "\n",
    "lista.sort(reverse=True)\n",
    "print(lista[0])\n"
   ]
  },
  {
   "cell_type": "code",
   "execution_count": 180,
   "id": "31c494bc",
   "metadata": {},
   "outputs": [
    {
     "name": "stdout",
     "output_type": "stream",
     "text": [
      "[0, 1, 2]\n"
     ]
    }
   ],
   "source": [
    "#Quins són els 3 números més petits?\n",
    "\n",
    "lista.sort()\n",
    "print(lista [0:3])"
   ]
  },
  {
   "cell_type": "code",
   "execution_count": 95,
   "id": "3d032cbc",
   "metadata": {},
   "outputs": [
    {
     "name": "stdout",
     "output_type": "stream",
     "text": [
      "14\n"
     ]
    }
   ],
   "source": [
    "#Quin és el rang d’aquesta llista?\n",
    "\n",
    "print(len(lista)-1)\n"
   ]
  },
  {
   "cell_type": "code",
   "execution_count": 225,
   "id": "03e9a744",
   "metadata": {},
   "outputs": [
    {
     "name": "stdout",
     "output_type": "stream",
     "text": [
      "{'Pomes': {'Qty': 5, '€': 0.42}, 'Peres': {'Qty': 3, '€': 0.66}}\n"
     ]
    }
   ],
   "source": [
    "#Nested dictionary\n",
    "compra = { \n",
    "    \"Pomes\" : {\"Qty\": 5, \"€\": 0.42}, \n",
    "    \"Peres\" : {\"Qty\": 3, \"€\": 0.66} \n",
    "}\n",
    "\n",
    "print(compra)"
   ]
  },
  {
   "cell_type": "code",
   "execution_count": 226,
   "id": "8a205179",
   "metadata": {},
   "outputs": [
    {
     "name": "stdout",
     "output_type": "stream",
     "text": [
      "{'Pomes': {'Qty': 5, '€': 0.42}, 'Peres': {'Qty': 3, '€': 0.66}, 'Platan': {'Qty': 5, '€': 0.99}, 'Cireres': {'Qty': 5, '€': 2.42}}\n"
     ]
    }
   ],
   "source": [
    "#Afegeix alguna fruita més\n",
    "compra.update({\n",
    "    \"Platan\":{\"Qty\": 5, \"€\": 0.99},\n",
    "    \"Cireres\":{\"Qty\": 5, \"€\": 2.42},\n",
    "})\n",
    "print(compra)"
   ]
  },
  {
   "cell_type": "code",
   "execution_count": 227,
   "id": "908e2413",
   "metadata": {},
   "outputs": [
    {
     "name": "stdout",
     "output_type": "stream",
     "text": [
      "el cost total de les peres es 1.98\n"
     ]
    }
   ],
   "source": [
    "#Quant han costat les peres en total? \n",
    "\n",
    "cost_total = compra[\"Peres\"][\"Qty\"]*compra[\"Peres\"][\"€\"]\n",
    "\n",
    "print(\"el cost total de les peres es\", cost_total) \n"
   ]
  },
  {
   "cell_type": "code",
   "execution_count": 238,
   "id": "5181a0b6",
   "metadata": {},
   "outputs": [
    {
     "name": "stdout",
     "output_type": "stream",
     "text": [
      "el total de fruites que hem comprat es 18\n"
     ]
    }
   ],
   "source": [
    "#Quantes fruites hem comprat en total?\n",
    "\n",
    "def compra_total(dic):\n",
    "    total_fruita=0\n",
    "\n",
    "    for fruta, datos in dic.items():\n",
    "        total_fruita= datos[\"Qty\"] + total_fruita\n",
    "    return total_fruita\n",
    "\n",
    "total=compra_total(compra)\n",
    "\n",
    "print(\"el total de fruites que hem comprat es\", total)\n"
   ]
  },
  {
   "cell_type": "code",
   "execution_count": 233,
   "id": "f1942bf5",
   "metadata": {},
   "outputs": [
    {
     "name": "stdout",
     "output_type": "stream",
     "text": [
      "la fruita més cara és: Cireres amb un preu de: 2.42 €\n"
     ]
    }
   ],
   "source": [
    "#Quina és la fruita més cara?\n",
    "def fruta_cara(dic):\n",
    "    precio=0\n",
    "    fruta_cara=None\n",
    "\n",
    "    for fruta, datos in dic.items():\n",
    "        valor_fruita=datos[\"€\"] \n",
    "        if valor_fruita > precio:\n",
    "            precio=valor_fruita\n",
    "            fruta_cara = fruta\n",
    "    return [fruta_cara, precio]\n",
    "\n",
    "lista = fruta_cara(compra)\n",
    "print (\"la fruita més cara és:\", lista[0], \"amb un preu de:\", lista[1], \"€\")\n"
   ]
  },
  {
   "cell_type": "code",
   "execution_count": null,
   "id": "a7dc95d9",
   "metadata": {},
   "outputs": [],
   "source": []
  }
 ],
 "metadata": {
  "kernelspec": {
   "display_name": "Python 3 (ipykernel)",
   "language": "python",
   "name": "python3"
  },
  "language_info": {
   "codemirror_mode": {
    "name": "ipython",
    "version": 3
   },
   "file_extension": ".py",
   "mimetype": "text/x-python",
   "name": "python",
   "nbconvert_exporter": "python",
   "pygments_lexer": "ipython3",
   "version": "3.11.5"
  }
 },
 "nbformat": 4,
 "nbformat_minor": 5
}
